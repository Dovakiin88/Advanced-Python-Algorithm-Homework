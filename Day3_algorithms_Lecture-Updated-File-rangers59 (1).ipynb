{
 "cells": [
  {
   "cell_type": "markdown",
   "metadata": {},
   "source": [
    "# Algorithms, Binary Search & Linked Lists"
   ]
  },
  {
   "cell_type": "markdown",
   "metadata": {},
   "source": [
    "## Tasks Today:\n",
    " \n",
    "1) <b>In-Place Algorithms</b> <br>\n",
    " &nbsp;&nbsp;&nbsp;&nbsp; a) Syntax <br>\n",
    " &nbsp;&nbsp;&nbsp;&nbsp; a) Out of Place Algorithm <br>\n",
    " &nbsp;&nbsp;&nbsp;&nbsp; b) In-Class Exercise #1 <br>\n",
    "2) <b>Two Pointers</b> <br>\n",
    "3) <b>Linked Lists</b> <br>\n",
    "4) <b>Merge Sort</b> <br>\n",
    " &nbsp;&nbsp;&nbsp;&nbsp; a) Video on Algorithms <br>\n",
    " &nbsp;&nbsp;&nbsp;&nbsp; b) How it Works <br>\n",
    "5) <b>Exercises</b> <br>\n",
    " &nbsp;&nbsp;&nbsp;&nbsp; a) Exercise #1 - Reverse a List in Place Using an In-Place Algorithm <br>\n",
    " &nbsp;&nbsp;&nbsp;&nbsp; b) Exercise #2 - Find Distinct Words <br>\n",
    " &nbsp;&nbsp;&nbsp;&nbsp; c) Exercise #3 - Write a program to implement a Linear Search Algorithm. <br>"
   ]
  },
  {
   "cell_type": "markdown",
   "metadata": {},
   "source": [
    "## In-Place Algorithms"
   ]
  },
  {
   "cell_type": "markdown",
   "metadata": {},
   "source": [
    "#### Syntax"
   ]
  },
  {
   "cell_type": "code",
   "execution_count": 9,
   "metadata": {},
   "outputs": [],
   "source": [
    "#Syntax-\n",
    "'''\n",
    "Var(i), var(i+1) = var(i+1), var(i)- these are some sort of list\n",
    "THis is known as a swap algorithms what ever is first will be last and vice versa but it maintains the same container.\n",
    "\n",
    "take a list and wap the order or it. \n",
    "'''\n",
    "def swap (alist, x, y, z):\n",
    "\talist[x], alist[y], alist[z] = alist[z], alist[y], alist[x]\n",
    "\treturn alist\n",
    "\n",
    "melist = [20,4,10]\n",
    "\n",
    "#swap function- you would imput the indicies to manipulate the lst \n",
    "\n",
    "swap(melist, 2,0,1) #- what was done here is me list was swapped byt the function and then the indices of the swapped function were printed.\n",
    "\n",
    "ANS = [20,10,4]\n",
    "# NOTE- the list is the same. a new list was not created"
   ]
  },
  {
   "cell_type": "markdown",
   "metadata": {},
   "source": [
    "#### Out of Place Algorithm"
   ]
  },
  {
   "cell_type": "code",
   "execution_count": 12,
   "metadata": {},
   "outputs": [
    {
     "name": "stdout",
     "output_type": "stream",
     "text": [
      "before ['a', 'b', 'c', 'd']\n",
      "after ['d', 'c', 'b', 'a']\n"
     ]
    }
   ],
   "source": [
    "#Were are not swapping anything. it revereses things and occupies a new place in memory aka new list \n",
    "\n",
    "melist_copy = melist[::-1] #this copies the list backwards\n",
    "\n",
    "array = ['a','b','c','d']\n",
    "newarray = [\"a\"]*len(array)\n",
    "\n",
    "print('before', array)\n",
    "length = len(array)-1\n",
    "\n",
    "for i in range(length):\n",
    "\tnewarray[i] = array[length - i]\n",
    "\n",
    "array = newarray\n",
    "print('after', array)\n"
   ]
  },
  {
   "cell_type": "markdown",
   "metadata": {},
   "source": [
    "#### In-Class Exercise #1 <br>\n",
    "<p>Write a function that takes in four arguments (list, index1, index2, index3), and swaps those three positions in the list passed in.</p>"
   ]
  },
  {
   "cell_type": "code",
   "execution_count": null,
   "metadata": {},
   "outputs": [],
   "source": [
    "l_1 = [10, 4, 3, 8, 4, 2, 6]\n",
    "\n"
   ]
  },
  {
   "cell_type": "markdown",
   "metadata": {},
   "source": [
    "## Two Pointers"
   ]
  },
  {
   "cell_type": "markdown",
   "metadata": {},
   "source": [
    "#### Syntax"
   ]
  },
  {
   "cell_type": "code",
   "execution_count": null,
   "metadata": {},
   "outputs": [],
   "source": [
    "Two Pointers:\n",
    "syntax:\n",
    "\talist[left], alist[right] = alist[right], alist[left]\n",
    "\t*this could be low/high = high/low\n",
    "\n",
    "def twopointers(alist):\n",
    "\t#create the pointers\n",
    "\tleft = 0\n",
    "\tright = len(alist) -1\n",
    "\t\n",
    "\t#NOTE: when we use length, it does not 0 index, it gives you the number of things \tinside \tthe list we need to go back by one. we will turn this into the index.\n",
    "\n",
    "\t#set up a loop that works through the list that swaps things one at a time.\n",
    "\twhile left <= right:\n",
    "\t\talist[left], alist[right] = alist[right], alist[left]\n",
    "\t\tleft += 1\n",
    "\t\tright -= 1\n",
    "\treturn alist\n",
    "\n",
    "zelist = [1,2,3,12,9,8,4,11,22]\n",
    "twopointers(alist)"
   ]
  },
  {
   "cell_type": "markdown",
   "metadata": {},
   "source": [
    "#### Video of Algorithms <br>\n",
    "<p>Watch the video about algorithms.</p>\n",
    "\n",
    "https://www.youtube.com/watch?v=Q9HjeFD62Uk\n",
    "\n",
    "https://www.youtube.com/watch?v=kPRA0W1kECg\n",
    "\n",
    "https://www.youtube.com/watch?v=ZZuD6iUe3Pc"
   ]
  },
  {
   "cell_type": "markdown",
   "metadata": {},
   "source": [
    "# Sorting Algorithms"
   ]
  },
  {
   "cell_type": "markdown",
   "metadata": {},
   "source": [
    "#### Bubble Sort\n",
    "\n",
    "Worst Case: O(n^2) Time - O(1) Space"
   ]
  },
  {
   "cell_type": "code",
   "execution_count": 8,
   "metadata": {},
   "outputs": [
    {
     "data": {
      "text/plain": [
       "[1, 22, 34, 44, 55, 66, 88, 100]"
      ]
     },
     "execution_count": 8,
     "metadata": {},
     "output_type": "execute_result"
    }
   ],
   "source": [
    "#Bubble_sort-\n",
    "#Worst case: o(n^2)time -o(1) Space\n",
    "\n",
    "#best case: o(n) -linear\n",
    "def swap(i,j, array):\n",
    "\tarray[i], array[j] = array[j], array[i]\n",
    "\n",
    "def bubblesort(array):\n",
    "\tissorted = False\n",
    "\twhile not issorted:\n",
    "\t\tissorted =True\n",
    "\t\tfor num in range(len(array)-1):\n",
    "\t\t\tif array[num]>array[num + 1]:\n",
    "\t\t\t\tswap(num, num + 1, array)\n",
    "\t\t\t\tissorted = False\n",
    "\treturn array\n",
    "\n",
    "bubblesort([22,55,88,44,1,100,34,66])"
   ]
  },
  {
   "cell_type": "markdown",
   "metadata": {},
   "source": [
    "##### Insertion Sort\n",
    "\n",
    "Worst Case: O(n^2) time - O(1)space"
   ]
  },
  {
   "cell_type": "code",
   "execution_count": 14,
   "metadata": {},
   "outputs": [
    {
     "ename": "TypeError",
     "evalue": "'list' object is not callable",
     "output_type": "error",
     "traceback": [
      "\u001b[1;31m---------------------------------------------------------------------------\u001b[0m",
      "\u001b[1;31mTypeError\u001b[0m                                 Traceback (most recent call last)",
      "Cell \u001b[1;32mIn[14], line 14\u001b[0m\n\u001b[0;32m     11\u001b[0m \t\t\tj\u001b[39m-\u001b[39m\u001b[39m1\u001b[39m\n\u001b[0;32m     12\u001b[0m \t\t\u001b[39mreturn\u001b[39;00m array\n\u001b[1;32m---> 14\u001b[0m insertionsort([\u001b[39m22\u001b[39;49m,\u001b[39m55\u001b[39;49m,\u001b[39m88\u001b[39;49m,\u001b[39m44\u001b[39;49m,\u001b[39m1\u001b[39;49m,\u001b[39m100\u001b[39;49m,\u001b[39m34\u001b[39;49m,\u001b[39m66\u001b[39;49m])\n",
      "Cell \u001b[1;32mIn[14], line 9\u001b[0m, in \u001b[0;36minsertionsort\u001b[1;34m(array)\u001b[0m\n\u001b[0;32m      7\u001b[0m \u001b[39mfor\u001b[39;00m i \u001b[39min\u001b[39;00m \u001b[39mrange\u001b[39m(\u001b[39m1\u001b[39m, \u001b[39mlen\u001b[39m(array)\u001b[39m-\u001b[39m\u001b[39m1\u001b[39m):\n\u001b[0;32m      8\u001b[0m \tj \u001b[39m=\u001b[39m i\n\u001b[1;32m----> 9\u001b[0m \t\u001b[39mwhile\u001b[39;00m j\u001b[39m>\u001b[39m\u001b[39m0\u001b[39m \u001b[39mand\u001b[39;00m array\u001b[39m<\u001b[39marray(j\u001b[39m-\u001b[39;49m\u001b[39m1\u001b[39;49m):\n\u001b[0;32m     10\u001b[0m \t\tswap(j,j\u001b[39m-\u001b[39m\u001b[39m1\u001b[39m, array)\n\u001b[0;32m     11\u001b[0m \t\tj\u001b[39m-\u001b[39m\u001b[39m1\u001b[39m\n",
      "\u001b[1;31mTypeError\u001b[0m: 'list' object is not callable"
     ]
    }
   ],
   "source": [
    "#Insertion sort- \n",
    "#Worst case: o(n^2)time -o(1)space\n",
    "def swap(i,j, array):\n",
    "\tarray[i], array[j] = array[j], array[i]\n",
    "\n",
    "def insertionsort(array):\n",
    "\tfor i in range(1, len(array)-1):\n",
    "\t\tj = i\n",
    "\t\twhile j>0 and array<array(j-1):\n",
    "\t\t\tswap(j,j-1, array)\n",
    "\t\t\tj-1\n",
    "\t\treturn array\n",
    "\n",
    "insertionsort([22,55,88,44,1,100,34,66])"
   ]
  },
  {
   "cell_type": "markdown",
   "metadata": {},
   "source": [
    "## Merge Sort"
   ]
  },
  {
   "cell_type": "markdown",
   "metadata": {},
   "source": [
    "#### How it Works"
   ]
  },
  {
   "cell_type": "code",
   "execution_count": null,
   "metadata": {},
   "outputs": [],
   "source": []
  },
  {
   "cell_type": "markdown",
   "metadata": {},
   "source": [
    "# Binary Search\n",
    "\n",
    "The Binary Search algorithm works by finding the number in the middle of a given array and comparing it to the target. Given that the array is sorted\n",
    "\n",
    "* The worst case run time for this algorithm is `O(log(n))`"
   ]
  },
  {
   "cell_type": "code",
   "execution_count": null,
   "metadata": {},
   "outputs": [],
   "source": [
    "#less = left\n",
    "#greater = right\n",
    "#list of numbers must be sorted\n",
    "#pm - potential match\n",
    "#bshf - binary search helper function\n",
    "\n",
    "def bshf(array, target, left, right):\n",
    "    while left<= right:\n",
    "        middle = (left+ right) // 2 #this means floor of the output\n",
    "        pm = array(middle)\n",
    "        if target == pm:\n",
    "            return f\"The index is .....{middle}\"\n",
    "        elif target < pm:\n",
    "            right = middle -1\n",
    "        else:\n",
    "            left = middle + 1\n",
    "    return -1\n",
    "\n",
    "def binarysearch(array, target):\n",
    "    return bshf(array, target, 0, len(array-1))"
   ]
  },
  {
   "cell_type": "markdown",
   "metadata": {},
   "source": [
    "# Exercises"
   ]
  },
  {
   "cell_type": "markdown",
   "metadata": {},
   "source": [
    "### Exercise #1 <br>\n",
    "<p>Reverse the list below in-place using an in-place algorithm.<br>For extra credit: Reverse the strings at the same time.</p>"
   ]
  },
  {
   "cell_type": "code",
   "execution_count": 6,
   "metadata": {},
   "outputs": [
    {
     "name": "stdout",
     "output_type": "stream",
     "text": [
      "['.', 'sentence', 'a', 'is', 'this']\n"
     ]
    }
   ],
   "source": [
    "words = ['this' , 'is', 'a', 'sentence', '.']\n",
    "x = len(words)\n",
    "y = words[x::-1]\n",
    "print(y)"
   ]
  },
  {
   "cell_type": "markdown",
   "metadata": {},
   "source": [
    "### Exercise #2 <br>\n",
    "<p>Create a function that counts how many distinct words are in the string below, then outputs a dictionary with the words as the key and the value as the amount of times that word appears in the string.<br>Should output:<br>{'a': 5,<br>\n",
    " 'abstract': 1,<br>\n",
    " 'an': 3,<br>\n",
    " 'array': 2, ... etc...</p>"
   ]
  },
  {
   "cell_type": "code",
   "execution_count": 4,
   "metadata": {},
   "outputs": [
    {
     "name": "stdout",
     "output_type": "stream",
     "text": [
      "[('a', 4), ('hash', 4), ('an', 3), ('table', 2), ('map', 2), ('data', 2), ('structure', 2), ('which', 2), ('array', 2), ('can', 2), ('to', 2), ('In', 1), ('computing,', 1), ('is', 1), ('implements', 1), ('associative', 1), ('abstract', 1), ('type,', 1), ('that', 1), ('keys', 1), ('values.', 1), ('A', 1), ('uses', 1), ('function', 1), ('compute', 1), ('index', 1), ('into', 1), ('of', 1), ('buckets', 1), ('or', 1), ('slots', 1), ('from', 1), ('the', 1), ('desired', 1), ('value', 1), ('be', 1), ('found', 1)]\n"
     ]
    }
   ],
   "source": [
    "a_text = \"In computing, a hash table hash map is a data structure which implements an associative array abstract data type, a structure that can map keys to values. A hash table uses a hash function to compute an index into an array of buckets or slots from which the desired value can be found\"\n",
    "new = a_text.split()\n",
    "length = len(new) -1\n",
    "word = {}\n",
    "for i in new:\n",
    "    if i in word:\n",
    "        word[i] += 1\n",
    "    else:\n",
    "        word[i] = 1\n",
    "\n",
    "print(sorted(word.items(), key=lambda x:x[1], reverse=True))\n"
   ]
  },
  {
   "cell_type": "markdown",
   "metadata": {},
   "source": [
    "## Exercise #3\n",
    "\n",
    "Write a program to implement a Linear Search Algorithm. Also in a comment, write the Time Complexity of the following algorithm.\n",
    "\n",
    "#### Hint: Linear Searching will require searching a list for a given number. "
   ]
  },
  {
   "cell_type": "code",
   "execution_count": 3,
   "metadata": {},
   "outputs": [
    {
     "name": "stdout",
     "output_type": "stream",
     "text": [
      "The index is .....5\n"
     ]
    }
   ],
   "source": [
    "nums_list = [10, 23, 45, 70, 11, 15]\n",
    "target = 70\n",
    "\n",
    "nums_list.sort()\n",
    "\n",
    "def bshf(array, target, left, right):\n",
    "    while left <= right:\n",
    "        middle = (left + right) // 2 #this means floor of the output\n",
    "        pm = array[middle]\n",
    "        if target == pm:\n",
    "            return f\"The index is .....{middle}\"\n",
    "        elif target < pm:\n",
    "            right = middle - 1\n",
    "        else:\n",
    "            left = middle + 1\n",
    "    return -1\n",
    "\n",
    "def binarysearch(array, target):\n",
    "    return bshf(array, target, 0, len(array)-1)\n",
    "\n",
    "print(binarysearch(nums_list, 70))"
   ]
  }
 ],
 "metadata": {
  "kernelspec": {
   "display_name": "Python 3",
   "language": "python",
   "name": "python3"
  },
  "language_info": {
   "codemirror_mode": {
    "name": "ipython",
    "version": 3
   },
   "file_extension": ".py",
   "mimetype": "text/x-python",
   "name": "python",
   "nbconvert_exporter": "python",
   "pygments_lexer": "ipython3",
   "version": "3.11.0"
  },
  "vscode": {
   "interpreter": {
    "hash": "103ad29920e8b0a08cfe849e647c5482a84236cdc05501fb057418063dae53ea"
   }
  }
 },
 "nbformat": 4,
 "nbformat_minor": 2
}
